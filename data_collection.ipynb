{
  "nbformat": 4,
  "nbformat_minor": 0,
  "metadata": {
    "colab": {
      "provenance": [],
      "gpuType": "T4",
      "authorship_tag": "ABX9TyMMD4ZhjZTX1RSGe3AR1/BH",
      "include_colab_link": true
    },
    "kernelspec": {
      "name": "python3",
      "display_name": "Python 3"
    },
    "language_info": {
      "name": "python"
    },
    "accelerator": "GPU"
  },
  "cells": [
    {
      "cell_type": "markdown",
      "metadata": {
        "id": "view-in-github",
        "colab_type": "text"
      },
      "source": [
        "<a href=\"https://colab.research.google.com/github/Pakapakk/cybernews-rss-reader/blob/main/data_collection.ipynb\" target=\"_parent\"><img src=\"https://colab.research.google.com/assets/colab-badge.svg\" alt=\"Open In Colab\"/></a>"
      ]
    },
    {
      "cell_type": "markdown",
      "source": [
        "# RSS-Finder"
      ],
      "metadata": {
        "id": "gDYxbI-kvt1z"
      }
    },
    {
      "cell_type": "code",
      "source": [
        "%%capture\n",
        "!pip install html5lib requests beautifulsoup4 pytz pandas dateutil feedparser"
      ],
      "metadata": {
        "id": "sdQt7_dSv0zi"
      },
      "execution_count": null,
      "outputs": []
    },
    {
      "cell_type": "code",
      "source": [
        "%%capture\n",
        "!pip install feedparser"
      ],
      "metadata": {
        "id": "xWwLpHL1-JxC"
      },
      "execution_count": null,
      "outputs": []
    },
    {
      "cell_type": "code",
      "source": [
        "# TODO: REMOVE HTML TAGS FROM THE SCRAPPED DATA // Done\n",
        "# TODO: SAVE TO JSON\n",
        "# TODO: CSV <-> JSON CONVERTER"
      ],
      "metadata": {
        "id": "464EIrKZy5W9"
      },
      "execution_count": null,
      "outputs": []
    },
    {
      "cell_type": "code",
      "execution_count": null,
      "metadata": {
        "id": "GJpNeZAuu-Xx"
      },
      "outputs": [],
      "source": [
        "import urllib.parse\n",
        "import html5lib\n",
        "import feedparser\n",
        "import requests\n",
        "from bs4 import BeautifulSoup\n",
        "from dateutil import parser\n",
        "from datetime import datetime\n",
        "import pytz\n",
        "\n",
        "import pandas as pd"
      ]
    },
    {
      "cell_type": "code",
      "source": [
        "def find_feeds(urls):\n",
        "    custom_feeds = {\n",
        "        'https://thehackernews.com/' : 'https://feeds.feedburner.com/TheHackersNews',\n",
        "        'https://www.bleepingcomputer.com/' : 'https://www.bleepingcomputer.com/feed/',\n",
        "        'https://www.securityweek.com/': 'https://www.securityweek.com/feed/',  #  xml exits but keyword is not in the headers\n",
        "        'https://www.microsoft.com/en-us/security/blog/': 'https://www.microsoft.com/en-us/security/blog/feed/',  #  xml exits but keyword is not in the headers\n",
        "        'https://www.databreachtoday.com/': 'https://www.databreachtoday.com/rss-feeds',  #  xml exits but its only the path, not full url\n",
        "        'https://packetstormsecurity.com/files/': 'https://rss.packetstormsecurity.com/files/',  #\n",
        "        'https://packetstormsecurity.com/files/tags/exploit/': 'https://rss.packetstormsecurity.com/files/tags/exploit/',  #\n",
        "        # 'https://edition.cnn.com/business/tech': 'http://rss.cnn.com/rss/cnn_tech.rss',  #  xml exits but its not on the page source\n",
        "    }\n",
        "\n",
        "    feeds = {}\n",
        "\n",
        "    for url in urls:\n",
        "        if url in custom_feeds:\n",
        "            feeds[url] = custom_feeds[url]\n",
        "            continue\n",
        "\n",
        "        try:\n",
        "            response = requests.get(url, headers={'User-Agent': 'Mozilla/5.0'})\n",
        "            html = response.text\n",
        "            tree = html5lib.parse(html, namespaceHTMLElements=False)\n",
        "\n",
        "            base = tree.findall('.//base')\n",
        "            base_url = base[0].attrib['href'] if base and 'href' in base[0].attrib else url\n",
        "\n",
        "            links = tree.findall(\".//head/link[@rel='alternate'][@type='application/atom+xml']\") + \\\n",
        "                    tree.findall(\".//head/link[@rel='alternate'][@type='application/rss+xml']\")\n",
        "\n",
        "            for link in links:\n",
        "                href = link.attrib.get('href', '').strip()\n",
        "                if href:\n",
        "                    feed_url = urllib.parse.urljoin(base_url, href)\n",
        "                    feeds[url] = feed_url\n",
        "                    break\n",
        "\n",
        "            if url not in feeds:\n",
        "                for suffix in [\n",
        "                    'feed', 'feed/', 'rss', 'atom', 'feed.xml',\n",
        "                    '/feed', '/feed/', '/rss', '/atom', '/feed.xml',\n",
        "                    'index.atom', 'index.rss', 'index.xml', 'atom.xml', 'rss.xml',\n",
        "                    '/index.atom', '/index.rss', '/index.xml', '/atom.xml', '/rss.xml',\n",
        "                    '.rss', '/.rss', '?rss=1', '?feed=rss2',\n",
        "                ]:\n",
        "                    try:\n",
        "                        potential_feed = urllib.parse.urljoin(base_url, suffix)\n",
        "                        response = requests.get(potential_feed)\n",
        "                        # if response.status_code == 200 and ('xml' in response.headers.get('Content-Type', '') or 'rss' in response.headers.get('Content-Type', '')):\n",
        "                        if ('xml' in response.headers.get('Content-Type', '') or 'rss' in response.headers.get('Content-Type', '')):\n",
        "                            feeds[url] = potential_feed\n",
        "                            break\n",
        "                    except Exception:\n",
        "                        continue\n",
        "\n",
        "        except Exception as e:\n",
        "            print(f\"An error occurred with URL {url}: {e}\")\n",
        "            feeds[url] = None\n",
        "\n",
        "    return feeds"
      ],
      "metadata": {
        "id": "ACx5l20zgTBT"
      },
      "execution_count": null,
      "outputs": []
    },
    {
      "cell_type": "code",
      "source": [
        "url_list = [\n",
        "    'https://www.bleepingcomputer.com/',\n",
        "    'https://thehackernews.com/',\n",
        "    'https://www.theregister.com//security',\n",
        "    'https://www.darkreading.com/',\n",
        "    'https://www.zdnet.com//topic/security',\n",
        "    'https://www.securityweek.com/',\n",
        "    'https://securityaffairs.com/',\n",
        "    # 'https://packetstormsecurity.com/files/',\n",
        "    # 'https://packetstormsecurity.com/files/tags/exploit/',\n",
        "    # 'https://www.databreachtoday.com/',\n",
        "    'https://cyberscoop.com/',\n",
        "    'https://cyberscoop.com/news/threats/cybercrime/',\n",
        "    'https://www.microsoft.com/en-us/security/blog/',\n",
        "    ]"
      ],
      "metadata": {
        "id": "fuDCwI5eJ5Vz"
      },
      "execution_count": null,
      "outputs": []
    },
    {
      "cell_type": "code",
      "source": [
        "len(url_list)"
      ],
      "metadata": {
        "colab": {
          "base_uri": "https://localhost:8080/"
        },
        "id": "i1YaV0LerR03",
        "outputId": "f7ad876c-af09-46c1-e6fc-2e43d7c908f5"
      },
      "execution_count": null,
      "outputs": [
        {
          "output_type": "execute_result",
          "data": {
            "text/plain": [
              "10"
            ]
          },
          "metadata": {},
          "execution_count": 8
        }
      ]
    },
    {
      "cell_type": "code",
      "source": [
        "find_feeds(url_list)"
      ],
      "metadata": {
        "colab": {
          "base_uri": "https://localhost:8080/"
        },
        "id": "PVuLTLUKwBNJ",
        "outputId": "7fc5463d-d199-4b57-a59f-d1a5e56ae160"
      },
      "execution_count": null,
      "outputs": [
        {
          "output_type": "execute_result",
          "data": {
            "text/plain": [
              "{'https://www.bleepingcomputer.com/': 'https://www.bleepingcomputer.com/feed/',\n",
              " 'https://thehackernews.com/': 'https://feeds.feedburner.com/TheHackersNews',\n",
              " 'https://www.theregister.com//security': 'https://www.theregister.com/headlines.atom',\n",
              " 'https://www.darkreading.com/': 'https://www.darkreading.com/rss.xml',\n",
              " 'https://www.zdnet.com//topic/security': 'https://www.zdnet.com/rss.xml',\n",
              " 'https://www.securityweek.com/': 'https://www.securityweek.com/feed/',\n",
              " 'https://securityaffairs.com/': 'https://securityaffairs.com/feed',\n",
              " 'https://cyberscoop.com/': 'https://cyberscoop.com/feed/',\n",
              " 'https://cyberscoop.com/news/threats/cybercrime/': 'https://cyberscoop.com/feed/',\n",
              " 'https://www.microsoft.com/en-us/security/blog/': 'https://www.microsoft.com/en-us/security/blog/feed/'}"
            ]
          },
          "metadata": {},
          "execution_count": 9
        }
      ]
    },
    {
      "cell_type": "code",
      "source": [
        "rss_list = [\n",
        "    'https://www.bleepingcomputer.com/feed/',\n",
        "    'https://feeds.feedburner.com/TheHackersNews',\n",
        "    'https://www.theregister.com/headlines.atom',\n",
        "    'https://www.darkreading.com/rss.xml',\n",
        "    'https://www.zdnet.com/rss.xml',\n",
        "    'https://www.securityweek.com/feed/',\n",
        "    'https://securityaffairs.com/feed/',\n",
        "    'https://cyberscoop.com/feed/',\n",
        "    'https://www.microsoft.com/en-us/security/blog/feed/',\n",
        "    'https://1stsecuritynews.com/feed/',\n",
        "    'https://adamlevin.com/feed/',\n",
        "    'https://www.alstonprivacy.com/feed/',\n",
        "    'https://www.amazingsupport.co.uk/feed/',\n",
        "    'https://www.andrewhay.ca/blog/feed',\n",
        "    'https://architectsecurity.org/feed/',\n",
        "    'https://blog.avast.com/feed',\n",
        "    'https://medium.com/feed/@avi-lumelsky',\n",
        "    'https://aws.amazon.com/blogs/security/feed/',\n",
        "    'https://badcyber.com/feed/',\n",
        "    'https://www.benthamsgaze.org/feed/',\n",
        "    'https://www.blackhillsinfosec.com/blog/feed/',\n",
        "    'https://blog.cadre.net/rss.xml',\n",
        "    'https://www.canadiansecuritymag.com/feed/',\n",
        "    'https://johnmasserini.com/feed/',\n",
        "    'https://blogs.cisco.com/security/feed',\n",
        "    'https://cloudsecurityalliance.org/feed',\n",
        "    'https://www.cyberdefensemagazine.com/feed/',\n",
        "    'http://cyber.uk/feed/',\n",
        "    'https://defensivesecurity.org/feed/',\n",
        "    'https://www.flyingpenguin.com/?feed=rss2',\n",
        "    'https://feeds.feedblitz.com/GDataSecurityBlog-EN&x=1',\n",
        "    'https://gbhackers.com/feed/',\n",
        "    'http://feeds.feedburner.com/GoogleOnlineSecurityBlog',\n",
        "    'https://www.grahamcluley.com/feed/',\n",
        "    'https://www.hackingarticles.in/feed/',\n",
        "    'https://www.hacknos.com/feed/',\n",
        "    'https://medium.com/feed/@hpatton',\n",
        "    'https://blogs.infoblox.com/feed/',\n",
        "    'https://informationsecuritybuzz.com/feed/',\n",
        "    'https://medium.com/feed/@infosecsherpa',\n",
        "    'https://jeffsoh.blogspot.com/feeds/posts/default?alt=rss',\n",
        "    'https://zeltser.com/blog/feed/',\n",
        "    'http://luciusonsecurity.blogspot.com/feeds/posts/default',\n",
        "    'https://marcoramilli.com/feed/',\n",
        "    'https://medium.com/feed/@martinconnarty',\n",
        "    'http://360tek.blogspot.com/feeds/posts/default?alt=rss',\n",
        "    'http://360tek.blogspot.com/feeds/posts/default',\n",
        "    'https://medium.com/feed/@nairuzabulhul',\n",
        "    'http://feeds.feedburner.com/NoticeBored',\n",
        "    'https://www.pindrop.com/feed/',\n",
        "    'https://blog.qualys.com/feed',\n",
        "    'https://rethinksecurity.io/posts/index.xml',\n",
        "    'https://robert.penz.name/feed/',\n",
        "    'http://feeds2.feedburner.com/RogersInfosecBlog',\n",
        "    'https://medium.com/feed/@sai.51192',\n",
        "    'https://secdevil.com/feed/',\n",
        "    'https://www.securion.io/feed',\n",
        "    'https://securityboulevard.com/feed/',\n",
        "    'https://www.sentinelone.com/feed/',\n",
        "    'https://taosecurity.blogspot.com/feeds/posts/default?alt=rss',\n",
        "    'https://www.tcdi.com/blog/feed/',\n",
        "    'http://tech-wreckblog.blogspot.com/feeds/posts/default?alt=rss',\n",
        "    'https://848.co/feed/',\n",
        "    'https://the-infosec.com/feed/',\n",
        "    'https://blog.trailofbits.com/feed/',\n",
        "    'http://feeds.trendmicro.com/TrendMicroResearch',\n",
        "    'https://www.tripwire.com/state-of-security/feed/',\n",
        "    'https://www.troyhunt.com/rss/',\n",
        "    'http://www.veracode.com/blog/feed/',\n",
        "    'https://www.vircom.com/feed/',\n",
        "    'https://www.wikidsystems.com/blog/feeds/rss/',\n",
        "    'https://www.winmagic.com/blog/feed/',\n",
        "    'https://www.wisporg.com/blog-posts?format=RSS',\n",
        "    'https://blog.rootshell.be/feed/',\n",
        "]"
      ],
      "metadata": {
        "id": "OAHAC8blwyWt"
      },
      "execution_count": null,
      "outputs": []
    },
    {
      "cell_type": "code",
      "source": [
        "len(rss_list)"
      ],
      "metadata": {
        "colab": {
          "base_uri": "https://localhost:8080/"
        },
        "id": "UawcHkTOKTnx",
        "outputId": "901bda15-7c9f-4136-becb-c4335c1bea71"
      },
      "execution_count": null,
      "outputs": [
        {
          "output_type": "execute_result",
          "data": {
            "text/plain": [
              "74"
            ]
          },
          "metadata": {},
          "execution_count": 24
        }
      ]
    },
    {
      "cell_type": "markdown",
      "source": [
        "# Feed Aggregator\n"
      ],
      "metadata": {
        "id": "KA6Hl9omwNxS"
      }
    },
    {
      "cell_type": "code",
      "source": [
        "def clean_text(html_text):\n",
        "    \"\"\"Removes HTML tags and returns plain text.\"\"\"\n",
        "    return BeautifulSoup(html_text, 'html.parser').get_text() if html_text else \"\"\n",
        "\n",
        "def get_field(entry, field, default=\"\"):\n",
        "    \"\"\"Retrieves a field from an entry, returns a default if field is missing.\"\"\"\n",
        "    return getattr(entry, field, default) if hasattr(entry, field) else default\n",
        "\n",
        "def format_date_to_custom(date_str, timezone=\"Etc/GMT-7\"):\n",
        "    \"\"\"Formats the date to 'Tue, 05 Nov 2024 11:03:00 +0700' format in GMT+7.\"\"\"\n",
        "    try:\n",
        "        date_obj = datetime.strptime(date_str, \"%Y-%m-%dT%H:%M:%S.%fZ\")\n",
        "        # Convert to GMT+7 timezone\n",
        "        target_timezone = pytz.timezone(timezone)\n",
        "        date_obj_target = date_obj.replace(tzinfo=pytz.UTC).astimezone(target_timezone)\n",
        "        return date_obj_target.strftime(\"%a, %d %b %Y %H:%M:%S %z\")\n",
        "    except ValueError:\n",
        "        return date_str"
      ],
      "metadata": {
        "id": "57yPhQrsGOGq"
      },
      "execution_count": null,
      "outputs": []
    },
    {
      "cell_type": "code",
      "source": [
        "def parse_feed(feed_list):\n",
        "    entries_data = []\n",
        "\n",
        "    # for site, feed_url in feed_list.items():\n",
        "    #     print(f\"Fetching feed for: {site}\")\n",
        "\n",
        "    for feed_url in feed_list:\n",
        "        # print(f\"Fetching feed for: {site}\")\n",
        "\n",
        "        feed = feedparser.parse(feed_url)\n",
        "        if feed.bozo:\n",
        "            print(f\"Failed to parse feed from {feed_url}\")\n",
        "            continue\n",
        "\n",
        "        feed_source = clean_text(get_field(feed.feed, 'title'))\n",
        "        feed_link = get_field(feed.feed, 'link')\n",
        "        feed_description = clean_text(get_field(feed.feed, 'description'))\n",
        "        fetched_timestamp = pd.Timestamp.now().strftime(\"%d-%m-%Y %H:%M:%S\")\n",
        "\n",
        "        entries_count = len(feed.entries)\n",
        "        # print(f\"Entries Count for {site}: {entries_count}\\n\")\n",
        "\n",
        "        for entry in feed.entries:\n",
        "            published_date = str(get_field(entry, 'published'))\n",
        "            formatted_date = format_date_to_custom(published_date) if isinstance(published_date, str) and published_date else \"\"\n",
        "\n",
        "            categories = [\n",
        "                clean_text(tag['term']) if isinstance(tag, dict) else clean_text(tag)\n",
        "                for tag in getattr(entry, 'tags', [])\n",
        "                if tag\n",
        "            ]\n",
        "            categories_list = \", \".join(categories)\n",
        "\n",
        "            content_encoded = get_field(entry, 'content', [{}])[0].get('value', '') or get_field(entry, 'description')\n",
        "            content = clean_text(content_encoded) if content_encoded else clean_text(get_field(entry, 'summary',))\n",
        "            entry_link = get_field(entry, 'link')\n",
        "\n",
        "            entry_data = {\n",
        "                \"Title\": clean_text(get_field(entry, 'title')),\n",
        "                \"Content\": content,\n",
        "                \"Source\": feed_source,\n",
        "                \"Category\": categories_list,\n",
        "                \"Entry Published\": formatted_date,\n",
        "                \"Entry Link\": entry_link,\n",
        "                \"Fetch Timestamp\": fetched_timestamp,\n",
        "            }\n",
        "            entries_data.append(entry_data)\n",
        "\n",
        "    df = pd.DataFrame(entries_data)\n",
        "    print(f\"\\nTotal Entries: {len(entries_data)}\\n\")\n",
        "    return df"
      ],
      "metadata": {
        "id": "ELHxYmAEAB7t"
      },
      "execution_count": null,
      "outputs": []
    },
    {
      "cell_type": "code",
      "source": [
        "# entries_data = parse_feed(find_feeds(url_list))"
      ],
      "metadata": {
        "id": "2UnoGJlsz_N7",
        "collapsed": true,
        "colab": {
          "base_uri": "https://localhost:8080/"
        },
        "outputId": "a4e4ab7f-3a01-409a-dea9-926597937fe6"
      },
      "execution_count": null,
      "outputs": [
        {
          "output_type": "stream",
          "name": "stdout",
          "text": [
            "Fetching feed for: https://www.bleepingcomputer.com/\n",
            "Entries Count for https://www.bleepingcomputer.com/: 13\n",
            "\n",
            "Fetching feed for: https://thehackernews.com/\n",
            "Entries Count for https://thehackernews.com/: 50\n",
            "\n",
            "Fetching feed for: https://www.theregister.com//security\n",
            "Entries Count for https://www.theregister.com//security: 50\n",
            "\n",
            "Fetching feed for: https://www.darkreading.com/\n",
            "Entries Count for https://www.darkreading.com/: 50\n",
            "\n",
            "Fetching feed for: https://www.zdnet.com//topic/security\n",
            "Entries Count for https://www.zdnet.com//topic/security: 20\n",
            "\n",
            "Fetching feed for: https://www.securityweek.com/\n",
            "Entries Count for https://www.securityweek.com/: 11\n",
            "\n",
            "Fetching feed for: https://securityaffairs.com/\n",
            "Entries Count for https://securityaffairs.com/: 10\n",
            "\n",
            "Fetching feed for: https://cyberscoop.com/\n",
            "Entries Count for https://cyberscoop.com/: 10\n",
            "\n",
            "Fetching feed for: https://cyberscoop.com/news/threats/cybercrime/\n",
            "Entries Count for https://cyberscoop.com/news/threats/cybercrime/: 10\n",
            "\n",
            "Fetching feed for: https://www.microsoft.com/en-us/security/blog/\n",
            "Entries Count for https://www.microsoft.com/en-us/security/blog/: 10\n",
            "\n",
            "\n",
            "Total Entries: 234\n",
            "\n"
          ]
        }
      ]
    },
    {
      "cell_type": "code",
      "source": [
        "entries_data = parse_feed(rss_list)"
      ],
      "metadata": {
        "colab": {
          "base_uri": "https://localhost:8080/"
        },
        "id": "czPb7sn3F9tC",
        "outputId": "ed263b4f-f457-438e-bf13-a89901ce74e8"
      },
      "execution_count": null,
      "outputs": [
        {
          "output_type": "stream",
          "name": "stdout",
          "text": [
            "Failed to parse feed from https://www.cyberdefensemagazine.com/feed/\n",
            "Failed to parse feed from https://www.hacknos.com/feed/\n",
            "Failed to parse feed from https://rethinksecurity.io/posts/index.xml\n",
            "Failed to parse feed from https://www.winmagic.com/blog/feed/\n",
            "\n",
            "Total Entries: 2292\n",
            "\n"
          ]
        }
      ]
    },
    {
      "cell_type": "markdown",
      "source": [
        "# Save"
      ],
      "metadata": {
        "id": "Bvxou3Fh0rxE"
      }
    },
    {
      "cell_type": "code",
      "source": [
        "from google.colab import drive\n",
        "drive.mount('/content/drive')"
      ],
      "metadata": {
        "id": "KWuToobAhWD4",
        "colab": {
          "base_uri": "https://localhost:8080/"
        },
        "outputId": "c41e7282-5537-43a7-fa9f-4e6573e35b72"
      },
      "execution_count": null,
      "outputs": [
        {
          "output_type": "stream",
          "name": "stdout",
          "text": [
            "Mounted at /content/drive\n"
          ]
        }
      ]
    },
    {
      "cell_type": "code",
      "source": [
        "import os\n",
        "\n",
        "def save_to_csv(df, filepath='/content/drive/My Drive/news_data/'):\n",
        "    \"\"\"Saves the DataFrame to a CSV file, handling potential duplicates.\"\"\"\n",
        "\n",
        "    if df.empty:\n",
        "        print(\"No new data to save. Skipping save operation.\")\n",
        "        return\n",
        "\n",
        "    csv_filepath = os.path.join(filepath, 'feed_input_demo.csv')\n",
        "\n",
        "    if os.path.exists(csv_filepath):\n",
        "        existing_df = pd.read_csv(csv_filepath)\n",
        "        combined_df = pd.concat([existing_df, df]).drop_duplicates(subset=['Title', 'Entry Link'], keep='first')\n",
        "\n",
        "        # Clear the file and save the updated DataFrame\n",
        "        with open(csv_filepath, 'w+', encoding='utf-8') as f:\n",
        "            f.truncate(0)  # Clear the file contents\n",
        "        print(f\"Added Entries: {len(combined_df) - len(existing_df)}\")\n",
        "        combined_df.to_csv(csv_filepath, index=False, encoding='utf-8', header=True)\n",
        "    else:\n",
        "        # Save the new DataFrame if the file doesn't exist\n",
        "        df.to_csv(csv_filepath, index=False, encoding='utf-8', header=True)\n",
        "        print(f\"File created and saved with {len(df)} entries.\")\n"
      ],
      "metadata": {
        "id": "Hc91WpfCgQTX"
      },
      "execution_count": null,
      "outputs": []
    },
    {
      "cell_type": "code",
      "source": [
        "save_to_csv(entries_data)"
      ],
      "metadata": {
        "id": "t4ctFJ3phJ1Q",
        "colab": {
          "base_uri": "https://localhost:8080/"
        },
        "outputId": "138f79fc-263f-43ed-bfc8-ba722291e862"
      },
      "execution_count": null,
      "outputs": [
        {
          "output_type": "stream",
          "name": "stdout",
          "text": [
            "File created and saved with 2292 entries.\n"
          ]
        }
      ]
    },
    {
      "cell_type": "code",
      "source": [
        "# entries_data.to_csv('feed_input.csv', encoding='utf-8', index=False)"
      ],
      "metadata": {
        "id": "kmGMQOji7Gxa"
      },
      "execution_count": null,
      "outputs": []
    },
    {
      "cell_type": "code",
      "source": [
        "# entries_data.to_json('feed_input.json', orient='records', indent=4)"
      ],
      "metadata": {
        "id": "U3IDoYnKiyZ6"
      },
      "execution_count": null,
      "outputs": []
    },
    {
      "cell_type": "markdown",
      "source": [
        "# Analysis"
      ],
      "metadata": {
        "id": "AulKgSuehcVg"
      }
    },
    {
      "cell_type": "code",
      "source": [
        "news_df = pd.read_csv(('/content/drive/My Drive/news_data/feed_input.csv'))"
      ],
      "metadata": {
        "id": "AySZi9Mchbxi"
      },
      "execution_count": null,
      "outputs": []
    },
    {
      "cell_type": "code",
      "source": [
        "# news_df['Source'] = pd.to_datetime(news_df['Source'], dayfirst=True)\n",
        "news_df.groupby(news_df['Source']).size()"
      ],
      "metadata": {
        "colab": {
          "base_uri": "https://localhost:8080/",
          "height": 492
        },
        "id": "KiLUTOpJhl8u",
        "outputId": "584a8317-7b24-448b-ca93-196e8a683d86"
      },
      "execution_count": null,
      "outputs": [
        {
          "output_type": "execute_result",
          "data": {
            "text/plain": [
              "Source\n",
              "BleepingComputer                         27\n",
              "CyberScoop                               20\n",
              "DataBreachToday.com  RSS Syndication     20\n",
              "Exploit Files ≈ Packet Storm             16\n",
              "Files ≈ Packet Storm                     25\n",
              "Microsoft Security Blog                  26\n",
              "Security Affairs                         24\n",
              "SecurityWeek                             22\n",
              "The Hacker News                         102\n",
              "The Register                            107\n",
              "Zdnet                                    62\n",
              "darkreading                             100\n",
              "dtype: int64"
            ],
            "text/html": [
              "<div>\n",
              "<style scoped>\n",
              "    .dataframe tbody tr th:only-of-type {\n",
              "        vertical-align: middle;\n",
              "    }\n",
              "\n",
              "    .dataframe tbody tr th {\n",
              "        vertical-align: top;\n",
              "    }\n",
              "\n",
              "    .dataframe thead th {\n",
              "        text-align: right;\n",
              "    }\n",
              "</style>\n",
              "<table border=\"1\" class=\"dataframe\">\n",
              "  <thead>\n",
              "    <tr style=\"text-align: right;\">\n",
              "      <th></th>\n",
              "      <th>0</th>\n",
              "    </tr>\n",
              "    <tr>\n",
              "      <th>Source</th>\n",
              "      <th></th>\n",
              "    </tr>\n",
              "  </thead>\n",
              "  <tbody>\n",
              "    <tr>\n",
              "      <th>BleepingComputer</th>\n",
              "      <td>27</td>\n",
              "    </tr>\n",
              "    <tr>\n",
              "      <th>CyberScoop</th>\n",
              "      <td>20</td>\n",
              "    </tr>\n",
              "    <tr>\n",
              "      <th>DataBreachToday.com  RSS Syndication</th>\n",
              "      <td>20</td>\n",
              "    </tr>\n",
              "    <tr>\n",
              "      <th>Exploit Files ≈ Packet Storm</th>\n",
              "      <td>16</td>\n",
              "    </tr>\n",
              "    <tr>\n",
              "      <th>Files ≈ Packet Storm</th>\n",
              "      <td>25</td>\n",
              "    </tr>\n",
              "    <tr>\n",
              "      <th>Microsoft Security Blog</th>\n",
              "      <td>26</td>\n",
              "    </tr>\n",
              "    <tr>\n",
              "      <th>Security Affairs</th>\n",
              "      <td>24</td>\n",
              "    </tr>\n",
              "    <tr>\n",
              "      <th>SecurityWeek</th>\n",
              "      <td>22</td>\n",
              "    </tr>\n",
              "    <tr>\n",
              "      <th>The Hacker News</th>\n",
              "      <td>102</td>\n",
              "    </tr>\n",
              "    <tr>\n",
              "      <th>The Register</th>\n",
              "      <td>107</td>\n",
              "    </tr>\n",
              "    <tr>\n",
              "      <th>Zdnet</th>\n",
              "      <td>62</td>\n",
              "    </tr>\n",
              "    <tr>\n",
              "      <th>darkreading</th>\n",
              "      <td>100</td>\n",
              "    </tr>\n",
              "  </tbody>\n",
              "</table>\n",
              "</div><br><label><b>dtype:</b> int64</label>"
            ]
          },
          "metadata": {},
          "execution_count": 44
        }
      ]
    },
    {
      "cell_type": "code",
      "source": [
        "news_df['Source'] = news_df['Source'].str.replace('Latest news', 'Zdnet')"
      ],
      "metadata": {
        "id": "-aNWoXMZ2tqv"
      },
      "execution_count": null,
      "outputs": []
    },
    {
      "cell_type": "code",
      "source": [
        "news_df.to_csv('/content/drive/My Drive/news_data/feed_input.csv', index=False)"
      ],
      "metadata": {
        "id": "GMPQayXp4Zdm"
      },
      "execution_count": null,
      "outputs": []
    },
    {
      "cell_type": "code",
      "source": [
        "news_df.groupby(news_df['Source']).size()"
      ],
      "metadata": {
        "colab": {
          "base_uri": "https://localhost:8080/",
          "height": 492
        },
        "id": "q2gP4TDq3Ed2",
        "outputId": "bd8ca84e-20c0-4271-fb30-e3d66fc807d5"
      },
      "execution_count": null,
      "outputs": [
        {
          "output_type": "execute_result",
          "data": {
            "text/plain": [
              "Source\n",
              "BleepingComputer                         27\n",
              "CyberScoop                               20\n",
              "DataBreachToday.com  RSS Syndication     20\n",
              "Exploit Files ≈ Packet Storm             16\n",
              "Files ≈ Packet Storm                     25\n",
              "Microsoft Security Blog                  26\n",
              "Security Affairs                         24\n",
              "SecurityWeek                             22\n",
              "The Hacker News                         102\n",
              "The Register                            107\n",
              "Zdnet                                    62\n",
              "darkreading                             100\n",
              "dtype: int64"
            ],
            "text/html": [
              "<div>\n",
              "<style scoped>\n",
              "    .dataframe tbody tr th:only-of-type {\n",
              "        vertical-align: middle;\n",
              "    }\n",
              "\n",
              "    .dataframe tbody tr th {\n",
              "        vertical-align: top;\n",
              "    }\n",
              "\n",
              "    .dataframe thead th {\n",
              "        text-align: right;\n",
              "    }\n",
              "</style>\n",
              "<table border=\"1\" class=\"dataframe\">\n",
              "  <thead>\n",
              "    <tr style=\"text-align: right;\">\n",
              "      <th></th>\n",
              "      <th>0</th>\n",
              "    </tr>\n",
              "    <tr>\n",
              "      <th>Source</th>\n",
              "      <th></th>\n",
              "    </tr>\n",
              "  </thead>\n",
              "  <tbody>\n",
              "    <tr>\n",
              "      <th>BleepingComputer</th>\n",
              "      <td>27</td>\n",
              "    </tr>\n",
              "    <tr>\n",
              "      <th>CyberScoop</th>\n",
              "      <td>20</td>\n",
              "    </tr>\n",
              "    <tr>\n",
              "      <th>DataBreachToday.com  RSS Syndication</th>\n",
              "      <td>20</td>\n",
              "    </tr>\n",
              "    <tr>\n",
              "      <th>Exploit Files ≈ Packet Storm</th>\n",
              "      <td>16</td>\n",
              "    </tr>\n",
              "    <tr>\n",
              "      <th>Files ≈ Packet Storm</th>\n",
              "      <td>25</td>\n",
              "    </tr>\n",
              "    <tr>\n",
              "      <th>Microsoft Security Blog</th>\n",
              "      <td>26</td>\n",
              "    </tr>\n",
              "    <tr>\n",
              "      <th>Security Affairs</th>\n",
              "      <td>24</td>\n",
              "    </tr>\n",
              "    <tr>\n",
              "      <th>SecurityWeek</th>\n",
              "      <td>22</td>\n",
              "    </tr>\n",
              "    <tr>\n",
              "      <th>The Hacker News</th>\n",
              "      <td>102</td>\n",
              "    </tr>\n",
              "    <tr>\n",
              "      <th>The Register</th>\n",
              "      <td>107</td>\n",
              "    </tr>\n",
              "    <tr>\n",
              "      <th>Zdnet</th>\n",
              "      <td>62</td>\n",
              "    </tr>\n",
              "    <tr>\n",
              "      <th>darkreading</th>\n",
              "      <td>100</td>\n",
              "    </tr>\n",
              "  </tbody>\n",
              "</table>\n",
              "</div><br><label><b>dtype:</b> int64</label>"
            ]
          },
          "metadata": {},
          "execution_count": 41
        }
      ]
    },
    {
      "cell_type": "code",
      "source": [
        "# prompt: from news_df, make new df that contains only Sources = The Hacker News or The Register or Zdnet or darkreading\n",
        "\n",
        "filtered_df = news_df[news_df['Source'].isin(['The Hacker News', 'The Register', 'Zdnet', 'darkreading'])]"
      ],
      "metadata": {
        "colab": {
          "base_uri": "https://localhost:8080/",
          "height": 597
        },
        "id": "SwocH1sI3nL4",
        "outputId": "6a2027ca-80b2-4377-c937-7270789b6aea"
      },
      "execution_count": null,
      "outputs": [
        {
          "output_type": "execute_result",
          "data": {
            "text/plain": [
              "                                                 Title  \\\n",
              "12   APT-K-47 Uses Hajj-Themed Lures to Deliver Adv...   \n",
              "13   Russian Hackers Deploy HATVIBE and CHERRYSPY M...   \n",
              "14   China-Linked TAG-112 Targets Tibetan Media wit...   \n",
              "15   Unlocking Google Workspace Security: Are You D...   \n",
              "16   Microsoft, Meta, and DOJ Disrupt Global Cyberc...   \n",
              "..                                                 ...   \n",
              "505  Bye bye, Wi-Fi: This low-cost adapter lets you...   \n",
              "506  No, AI won't revolutionize shopping - but this...   \n",
              "507  Upgrading to Wi-Fi 7? This new router gave me ...   \n",
              "508  How to watch Super Bowl 2025: Every streaming ...   \n",
              "550  VMware migrations will be long, expensive, and...   \n",
              "\n",
              "                                               Content           Source  \\\n",
              "12   The threat actor known as Mysterious Elephant ...  The Hacker News   \n",
              "13   Threat actors with ties to Russia have been li...  The Hacker News   \n",
              "14   A China-linked nation-state group called TAG-1...  The Hacker News   \n",
              "15   Google Workspace has quickly become the produc...  The Hacker News   \n",
              "16   Meta Platforms, Microsoft, and the U.S. Depart...  The Hacker News   \n",
              "..                                                 ...              ...   \n",
              "505  Running ethernet wiring can be messy and expen...            Zdnet   \n",
              "506  As big brands chase the latest AI trends, they...            Zdnet   \n",
              "507  The Asus RT-BE86U is loaded with security tool...            Zdnet   \n",
              "508  ZDNET found the cheapest ways to watch the gam...            Zdnet   \n",
              "550  And possibly even more so if you don’t start p...     The Register   \n",
              "\n",
              "    Category                  Entry Published  \\\n",
              "12       NaN  Fri, 22 Nov 2024 22:29:00 +0530   \n",
              "13       NaN  Fri, 22 Nov 2024 22:29:00 +0530   \n",
              "14       NaN  Fri, 22 Nov 2024 22:17:00 +0530   \n",
              "15       NaN  Fri, 22 Nov 2024 17:00:00 +0530   \n",
              "16       NaN  Fri, 22 Nov 2024 15:07:00 +0530   \n",
              "..       ...                              ...   \n",
              "505      NaN    Fri, 17 Jan 2025 21:56:00 GMT   \n",
              "506      NaN    Fri, 17 Jan 2025 21:24:00 GMT   \n",
              "507      NaN    Fri, 17 Jan 2025 21:10:27 GMT   \n",
              "508      NaN    Fri, 17 Jan 2025 21:06:00 GMT   \n",
              "550      NaN  Tue, 21 Jan 2025 14:35:07 +0700   \n",
              "\n",
              "                                            Entry Link      Fetch Timestamp  \n",
              "12   https://thehackernews.com/2024/11/apt-k-47-use...  23-11-2024 08:22:22  \n",
              "13   https://thehackernews.com/2024/11/russian-hack...  23-11-2024 08:22:22  \n",
              "14   https://thehackernews.com/2024/11/china-linked...  23-11-2024 08:22:22  \n",
              "15   https://thehackernews.com/2024/11/the-importan...  23-11-2024 08:22:22  \n",
              "16   https://thehackernews.com/2024/11/microsoft-me...  23-11-2024 08:22:22  \n",
              "..                                                 ...                  ...  \n",
              "505  https://www.zdnet.com/article/bye-bye-wi-fi-th...  21-01-2025 07:19:33  \n",
              "506  https://www.zdnet.com/article/no-ai-wont-revol...  21-01-2025 07:19:33  \n",
              "507  https://www.zdnet.com/article/upgrading-to-wi-...  21-01-2025 07:19:33  \n",
              "508  https://www.zdnet.com/article/how-to-watch-the...  21-01-2025 07:19:33  \n",
              "550  https://go.theregister.com/feed/www.theregiste...  21-01-2025 07:53:00  \n",
              "\n",
              "[371 rows x 7 columns]"
            ],
            "text/html": [
              "\n",
              "  <div id=\"df-870f8fed-cb3d-4256-9fff-8850cd0063e8\" class=\"colab-df-container\">\n",
              "    <div>\n",
              "<style scoped>\n",
              "    .dataframe tbody tr th:only-of-type {\n",
              "        vertical-align: middle;\n",
              "    }\n",
              "\n",
              "    .dataframe tbody tr th {\n",
              "        vertical-align: top;\n",
              "    }\n",
              "\n",
              "    .dataframe thead th {\n",
              "        text-align: right;\n",
              "    }\n",
              "</style>\n",
              "<table border=\"1\" class=\"dataframe\">\n",
              "  <thead>\n",
              "    <tr style=\"text-align: right;\">\n",
              "      <th></th>\n",
              "      <th>Title</th>\n",
              "      <th>Content</th>\n",
              "      <th>Source</th>\n",
              "      <th>Category</th>\n",
              "      <th>Entry Published</th>\n",
              "      <th>Entry Link</th>\n",
              "      <th>Fetch Timestamp</th>\n",
              "    </tr>\n",
              "  </thead>\n",
              "  <tbody>\n",
              "    <tr>\n",
              "      <th>12</th>\n",
              "      <td>APT-K-47 Uses Hajj-Themed Lures to Deliver Adv...</td>\n",
              "      <td>The threat actor known as Mysterious Elephant ...</td>\n",
              "      <td>The Hacker News</td>\n",
              "      <td>NaN</td>\n",
              "      <td>Fri, 22 Nov 2024 22:29:00 +0530</td>\n",
              "      <td>https://thehackernews.com/2024/11/apt-k-47-use...</td>\n",
              "      <td>23-11-2024 08:22:22</td>\n",
              "    </tr>\n",
              "    <tr>\n",
              "      <th>13</th>\n",
              "      <td>Russian Hackers Deploy HATVIBE and CHERRYSPY M...</td>\n",
              "      <td>Threat actors with ties to Russia have been li...</td>\n",
              "      <td>The Hacker News</td>\n",
              "      <td>NaN</td>\n",
              "      <td>Fri, 22 Nov 2024 22:29:00 +0530</td>\n",
              "      <td>https://thehackernews.com/2024/11/russian-hack...</td>\n",
              "      <td>23-11-2024 08:22:22</td>\n",
              "    </tr>\n",
              "    <tr>\n",
              "      <th>14</th>\n",
              "      <td>China-Linked TAG-112 Targets Tibetan Media wit...</td>\n",
              "      <td>A China-linked nation-state group called TAG-1...</td>\n",
              "      <td>The Hacker News</td>\n",
              "      <td>NaN</td>\n",
              "      <td>Fri, 22 Nov 2024 22:17:00 +0530</td>\n",
              "      <td>https://thehackernews.com/2024/11/china-linked...</td>\n",
              "      <td>23-11-2024 08:22:22</td>\n",
              "    </tr>\n",
              "    <tr>\n",
              "      <th>15</th>\n",
              "      <td>Unlocking Google Workspace Security: Are You D...</td>\n",
              "      <td>Google Workspace has quickly become the produc...</td>\n",
              "      <td>The Hacker News</td>\n",
              "      <td>NaN</td>\n",
              "      <td>Fri, 22 Nov 2024 17:00:00 +0530</td>\n",
              "      <td>https://thehackernews.com/2024/11/the-importan...</td>\n",
              "      <td>23-11-2024 08:22:22</td>\n",
              "    </tr>\n",
              "    <tr>\n",
              "      <th>16</th>\n",
              "      <td>Microsoft, Meta, and DOJ Disrupt Global Cyberc...</td>\n",
              "      <td>Meta Platforms, Microsoft, and the U.S. Depart...</td>\n",
              "      <td>The Hacker News</td>\n",
              "      <td>NaN</td>\n",
              "      <td>Fri, 22 Nov 2024 15:07:00 +0530</td>\n",
              "      <td>https://thehackernews.com/2024/11/microsoft-me...</td>\n",
              "      <td>23-11-2024 08:22:22</td>\n",
              "    </tr>\n",
              "    <tr>\n",
              "      <th>...</th>\n",
              "      <td>...</td>\n",
              "      <td>...</td>\n",
              "      <td>...</td>\n",
              "      <td>...</td>\n",
              "      <td>...</td>\n",
              "      <td>...</td>\n",
              "      <td>...</td>\n",
              "    </tr>\n",
              "    <tr>\n",
              "      <th>505</th>\n",
              "      <td>Bye bye, Wi-Fi: This low-cost adapter lets you...</td>\n",
              "      <td>Running ethernet wiring can be messy and expen...</td>\n",
              "      <td>Zdnet</td>\n",
              "      <td>NaN</td>\n",
              "      <td>Fri, 17 Jan 2025 21:56:00 GMT</td>\n",
              "      <td>https://www.zdnet.com/article/bye-bye-wi-fi-th...</td>\n",
              "      <td>21-01-2025 07:19:33</td>\n",
              "    </tr>\n",
              "    <tr>\n",
              "      <th>506</th>\n",
              "      <td>No, AI won't revolutionize shopping - but this...</td>\n",
              "      <td>As big brands chase the latest AI trends, they...</td>\n",
              "      <td>Zdnet</td>\n",
              "      <td>NaN</td>\n",
              "      <td>Fri, 17 Jan 2025 21:24:00 GMT</td>\n",
              "      <td>https://www.zdnet.com/article/no-ai-wont-revol...</td>\n",
              "      <td>21-01-2025 07:19:33</td>\n",
              "    </tr>\n",
              "    <tr>\n",
              "      <th>507</th>\n",
              "      <td>Upgrading to Wi-Fi 7? This new router gave me ...</td>\n",
              "      <td>The Asus RT-BE86U is loaded with security tool...</td>\n",
              "      <td>Zdnet</td>\n",
              "      <td>NaN</td>\n",
              "      <td>Fri, 17 Jan 2025 21:10:27 GMT</td>\n",
              "      <td>https://www.zdnet.com/article/upgrading-to-wi-...</td>\n",
              "      <td>21-01-2025 07:19:33</td>\n",
              "    </tr>\n",
              "    <tr>\n",
              "      <th>508</th>\n",
              "      <td>How to watch Super Bowl 2025: Every streaming ...</td>\n",
              "      <td>ZDNET found the cheapest ways to watch the gam...</td>\n",
              "      <td>Zdnet</td>\n",
              "      <td>NaN</td>\n",
              "      <td>Fri, 17 Jan 2025 21:06:00 GMT</td>\n",
              "      <td>https://www.zdnet.com/article/how-to-watch-the...</td>\n",
              "      <td>21-01-2025 07:19:33</td>\n",
              "    </tr>\n",
              "    <tr>\n",
              "      <th>550</th>\n",
              "      <td>VMware migrations will be long, expensive, and...</td>\n",
              "      <td>And possibly even more so if you don’t start p...</td>\n",
              "      <td>The Register</td>\n",
              "      <td>NaN</td>\n",
              "      <td>Tue, 21 Jan 2025 14:35:07 +0700</td>\n",
              "      <td>https://go.theregister.com/feed/www.theregiste...</td>\n",
              "      <td>21-01-2025 07:53:00</td>\n",
              "    </tr>\n",
              "  </tbody>\n",
              "</table>\n",
              "<p>371 rows × 7 columns</p>\n",
              "</div>\n",
              "    <div class=\"colab-df-buttons\">\n",
              "\n",
              "  <div class=\"colab-df-container\">\n",
              "    <button class=\"colab-df-convert\" onclick=\"convertToInteractive('df-870f8fed-cb3d-4256-9fff-8850cd0063e8')\"\n",
              "            title=\"Convert this dataframe to an interactive table.\"\n",
              "            style=\"display:none;\">\n",
              "\n",
              "  <svg xmlns=\"http://www.w3.org/2000/svg\" height=\"24px\" viewBox=\"0 -960 960 960\">\n",
              "    <path d=\"M120-120v-720h720v720H120Zm60-500h600v-160H180v160Zm220 220h160v-160H400v160Zm0 220h160v-160H400v160ZM180-400h160v-160H180v160Zm440 0h160v-160H620v160ZM180-180h160v-160H180v160Zm440 0h160v-160H620v160Z\"/>\n",
              "  </svg>\n",
              "    </button>\n",
              "\n",
              "  <style>\n",
              "    .colab-df-container {\n",
              "      display:flex;\n",
              "      gap: 12px;\n",
              "    }\n",
              "\n",
              "    .colab-df-convert {\n",
              "      background-color: #E8F0FE;\n",
              "      border: none;\n",
              "      border-radius: 50%;\n",
              "      cursor: pointer;\n",
              "      display: none;\n",
              "      fill: #1967D2;\n",
              "      height: 32px;\n",
              "      padding: 0 0 0 0;\n",
              "      width: 32px;\n",
              "    }\n",
              "\n",
              "    .colab-df-convert:hover {\n",
              "      background-color: #E2EBFA;\n",
              "      box-shadow: 0px 1px 2px rgba(60, 64, 67, 0.3), 0px 1px 3px 1px rgba(60, 64, 67, 0.15);\n",
              "      fill: #174EA6;\n",
              "    }\n",
              "\n",
              "    .colab-df-buttons div {\n",
              "      margin-bottom: 4px;\n",
              "    }\n",
              "\n",
              "    [theme=dark] .colab-df-convert {\n",
              "      background-color: #3B4455;\n",
              "      fill: #D2E3FC;\n",
              "    }\n",
              "\n",
              "    [theme=dark] .colab-df-convert:hover {\n",
              "      background-color: #434B5C;\n",
              "      box-shadow: 0px 1px 3px 1px rgba(0, 0, 0, 0.15);\n",
              "      filter: drop-shadow(0px 1px 2px rgba(0, 0, 0, 0.3));\n",
              "      fill: #FFFFFF;\n",
              "    }\n",
              "  </style>\n",
              "\n",
              "    <script>\n",
              "      const buttonEl =\n",
              "        document.querySelector('#df-870f8fed-cb3d-4256-9fff-8850cd0063e8 button.colab-df-convert');\n",
              "      buttonEl.style.display =\n",
              "        google.colab.kernel.accessAllowed ? 'block' : 'none';\n",
              "\n",
              "      async function convertToInteractive(key) {\n",
              "        const element = document.querySelector('#df-870f8fed-cb3d-4256-9fff-8850cd0063e8');\n",
              "        const dataTable =\n",
              "          await google.colab.kernel.invokeFunction('convertToInteractive',\n",
              "                                                    [key], {});\n",
              "        if (!dataTable) return;\n",
              "\n",
              "        const docLinkHtml = 'Like what you see? Visit the ' +\n",
              "          '<a target=\"_blank\" href=https://colab.research.google.com/notebooks/data_table.ipynb>data table notebook</a>'\n",
              "          + ' to learn more about interactive tables.';\n",
              "        element.innerHTML = '';\n",
              "        dataTable['output_type'] = 'display_data';\n",
              "        await google.colab.output.renderOutput(dataTable, element);\n",
              "        const docLink = document.createElement('div');\n",
              "        docLink.innerHTML = docLinkHtml;\n",
              "        element.appendChild(docLink);\n",
              "      }\n",
              "    </script>\n",
              "  </div>\n",
              "\n",
              "\n",
              "<div id=\"df-df107562-cd98-41ce-8a54-65261a73114c\">\n",
              "  <button class=\"colab-df-quickchart\" onclick=\"quickchart('df-df107562-cd98-41ce-8a54-65261a73114c')\"\n",
              "            title=\"Suggest charts\"\n",
              "            style=\"display:none;\">\n",
              "\n",
              "<svg xmlns=\"http://www.w3.org/2000/svg\" height=\"24px\"viewBox=\"0 0 24 24\"\n",
              "     width=\"24px\">\n",
              "    <g>\n",
              "        <path d=\"M19 3H5c-1.1 0-2 .9-2 2v14c0 1.1.9 2 2 2h14c1.1 0 2-.9 2-2V5c0-1.1-.9-2-2-2zM9 17H7v-7h2v7zm4 0h-2V7h2v10zm4 0h-2v-4h2v4z\"/>\n",
              "    </g>\n",
              "</svg>\n",
              "  </button>\n",
              "\n",
              "<style>\n",
              "  .colab-df-quickchart {\n",
              "      --bg-color: #E8F0FE;\n",
              "      --fill-color: #1967D2;\n",
              "      --hover-bg-color: #E2EBFA;\n",
              "      --hover-fill-color: #174EA6;\n",
              "      --disabled-fill-color: #AAA;\n",
              "      --disabled-bg-color: #DDD;\n",
              "  }\n",
              "\n",
              "  [theme=dark] .colab-df-quickchart {\n",
              "      --bg-color: #3B4455;\n",
              "      --fill-color: #D2E3FC;\n",
              "      --hover-bg-color: #434B5C;\n",
              "      --hover-fill-color: #FFFFFF;\n",
              "      --disabled-bg-color: #3B4455;\n",
              "      --disabled-fill-color: #666;\n",
              "  }\n",
              "\n",
              "  .colab-df-quickchart {\n",
              "    background-color: var(--bg-color);\n",
              "    border: none;\n",
              "    border-radius: 50%;\n",
              "    cursor: pointer;\n",
              "    display: none;\n",
              "    fill: var(--fill-color);\n",
              "    height: 32px;\n",
              "    padding: 0;\n",
              "    width: 32px;\n",
              "  }\n",
              "\n",
              "  .colab-df-quickchart:hover {\n",
              "    background-color: var(--hover-bg-color);\n",
              "    box-shadow: 0 1px 2px rgba(60, 64, 67, 0.3), 0 1px 3px 1px rgba(60, 64, 67, 0.15);\n",
              "    fill: var(--button-hover-fill-color);\n",
              "  }\n",
              "\n",
              "  .colab-df-quickchart-complete:disabled,\n",
              "  .colab-df-quickchart-complete:disabled:hover {\n",
              "    background-color: var(--disabled-bg-color);\n",
              "    fill: var(--disabled-fill-color);\n",
              "    box-shadow: none;\n",
              "  }\n",
              "\n",
              "  .colab-df-spinner {\n",
              "    border: 2px solid var(--fill-color);\n",
              "    border-color: transparent;\n",
              "    border-bottom-color: var(--fill-color);\n",
              "    animation:\n",
              "      spin 1s steps(1) infinite;\n",
              "  }\n",
              "\n",
              "  @keyframes spin {\n",
              "    0% {\n",
              "      border-color: transparent;\n",
              "      border-bottom-color: var(--fill-color);\n",
              "      border-left-color: var(--fill-color);\n",
              "    }\n",
              "    20% {\n",
              "      border-color: transparent;\n",
              "      border-left-color: var(--fill-color);\n",
              "      border-top-color: var(--fill-color);\n",
              "    }\n",
              "    30% {\n",
              "      border-color: transparent;\n",
              "      border-left-color: var(--fill-color);\n",
              "      border-top-color: var(--fill-color);\n",
              "      border-right-color: var(--fill-color);\n",
              "    }\n",
              "    40% {\n",
              "      border-color: transparent;\n",
              "      border-right-color: var(--fill-color);\n",
              "      border-top-color: var(--fill-color);\n",
              "    }\n",
              "    60% {\n",
              "      border-color: transparent;\n",
              "      border-right-color: var(--fill-color);\n",
              "    }\n",
              "    80% {\n",
              "      border-color: transparent;\n",
              "      border-right-color: var(--fill-color);\n",
              "      border-bottom-color: var(--fill-color);\n",
              "    }\n",
              "    90% {\n",
              "      border-color: transparent;\n",
              "      border-bottom-color: var(--fill-color);\n",
              "    }\n",
              "  }\n",
              "</style>\n",
              "\n",
              "  <script>\n",
              "    async function quickchart(key) {\n",
              "      const quickchartButtonEl =\n",
              "        document.querySelector('#' + key + ' button');\n",
              "      quickchartButtonEl.disabled = true;  // To prevent multiple clicks.\n",
              "      quickchartButtonEl.classList.add('colab-df-spinner');\n",
              "      try {\n",
              "        const charts = await google.colab.kernel.invokeFunction(\n",
              "            'suggestCharts', [key], {});\n",
              "      } catch (error) {\n",
              "        console.error('Error during call to suggestCharts:', error);\n",
              "      }\n",
              "      quickchartButtonEl.classList.remove('colab-df-spinner');\n",
              "      quickchartButtonEl.classList.add('colab-df-quickchart-complete');\n",
              "    }\n",
              "    (() => {\n",
              "      let quickchartButtonEl =\n",
              "        document.querySelector('#df-df107562-cd98-41ce-8a54-65261a73114c button');\n",
              "      quickchartButtonEl.style.display =\n",
              "        google.colab.kernel.accessAllowed ? 'block' : 'none';\n",
              "    })();\n",
              "  </script>\n",
              "</div>\n",
              "\n",
              "  <div id=\"id_36bb1100-4b2f-47bf-8954-6a223166d980\">\n",
              "    <style>\n",
              "      .colab-df-generate {\n",
              "        background-color: #E8F0FE;\n",
              "        border: none;\n",
              "        border-radius: 50%;\n",
              "        cursor: pointer;\n",
              "        display: none;\n",
              "        fill: #1967D2;\n",
              "        height: 32px;\n",
              "        padding: 0 0 0 0;\n",
              "        width: 32px;\n",
              "      }\n",
              "\n",
              "      .colab-df-generate:hover {\n",
              "        background-color: #E2EBFA;\n",
              "        box-shadow: 0px 1px 2px rgba(60, 64, 67, 0.3), 0px 1px 3px 1px rgba(60, 64, 67, 0.15);\n",
              "        fill: #174EA6;\n",
              "      }\n",
              "\n",
              "      [theme=dark] .colab-df-generate {\n",
              "        background-color: #3B4455;\n",
              "        fill: #D2E3FC;\n",
              "      }\n",
              "\n",
              "      [theme=dark] .colab-df-generate:hover {\n",
              "        background-color: #434B5C;\n",
              "        box-shadow: 0px 1px 3px 1px rgba(0, 0, 0, 0.15);\n",
              "        filter: drop-shadow(0px 1px 2px rgba(0, 0, 0, 0.3));\n",
              "        fill: #FFFFFF;\n",
              "      }\n",
              "    </style>\n",
              "    <button class=\"colab-df-generate\" onclick=\"generateWithVariable('filtered_df')\"\n",
              "            title=\"Generate code using this dataframe.\"\n",
              "            style=\"display:none;\">\n",
              "\n",
              "  <svg xmlns=\"http://www.w3.org/2000/svg\" height=\"24px\"viewBox=\"0 0 24 24\"\n",
              "       width=\"24px\">\n",
              "    <path d=\"M7,19H8.4L18.45,9,17,7.55,7,17.6ZM5,21V16.75L18.45,3.32a2,2,0,0,1,2.83,0l1.4,1.43a1.91,1.91,0,0,1,.58,1.4,1.91,1.91,0,0,1-.58,1.4L9.25,21ZM18.45,9,17,7.55Zm-12,3A5.31,5.31,0,0,0,4.9,8.1,5.31,5.31,0,0,0,1,6.5,5.31,5.31,0,0,0,4.9,4.9,5.31,5.31,0,0,0,6.5,1,5.31,5.31,0,0,0,8.1,4.9,5.31,5.31,0,0,0,12,6.5,5.46,5.46,0,0,0,6.5,12Z\"/>\n",
              "  </svg>\n",
              "    </button>\n",
              "    <script>\n",
              "      (() => {\n",
              "      const buttonEl =\n",
              "        document.querySelector('#id_36bb1100-4b2f-47bf-8954-6a223166d980 button.colab-df-generate');\n",
              "      buttonEl.style.display =\n",
              "        google.colab.kernel.accessAllowed ? 'block' : 'none';\n",
              "\n",
              "      buttonEl.onclick = () => {\n",
              "        google.colab.notebook.generateWithVariable('filtered_df');\n",
              "      }\n",
              "      })();\n",
              "    </script>\n",
              "  </div>\n",
              "\n",
              "    </div>\n",
              "  </div>\n"
            ],
            "application/vnd.google.colaboratory.intrinsic+json": {
              "type": "dataframe",
              "variable_name": "filtered_df",
              "repr_error": "0"
            }
          },
          "metadata": {},
          "execution_count": 37
        }
      ]
    },
    {
      "cell_type": "code",
      "source": [
        "filtered_df.groupby(news_df['Source']).size()"
      ],
      "metadata": {
        "colab": {
          "base_uri": "https://localhost:8080/",
          "height": 241
        },
        "id": "TetqAy2W4BO3",
        "outputId": "3ada9ad2-10e5-44eb-cbcf-0edf7cde2c14"
      },
      "execution_count": null,
      "outputs": [
        {
          "output_type": "execute_result",
          "data": {
            "text/plain": [
              "Source\n",
              "The Hacker News    102\n",
              "The Register       107\n",
              "Zdnet               62\n",
              "darkreading        100\n",
              "dtype: int64"
            ],
            "text/html": [
              "<div>\n",
              "<style scoped>\n",
              "    .dataframe tbody tr th:only-of-type {\n",
              "        vertical-align: middle;\n",
              "    }\n",
              "\n",
              "    .dataframe tbody tr th {\n",
              "        vertical-align: top;\n",
              "    }\n",
              "\n",
              "    .dataframe thead th {\n",
              "        text-align: right;\n",
              "    }\n",
              "</style>\n",
              "<table border=\"1\" class=\"dataframe\">\n",
              "  <thead>\n",
              "    <tr style=\"text-align: right;\">\n",
              "      <th></th>\n",
              "      <th>0</th>\n",
              "    </tr>\n",
              "    <tr>\n",
              "      <th>Source</th>\n",
              "      <th></th>\n",
              "    </tr>\n",
              "  </thead>\n",
              "  <tbody>\n",
              "    <tr>\n",
              "      <th>The Hacker News</th>\n",
              "      <td>102</td>\n",
              "    </tr>\n",
              "    <tr>\n",
              "      <th>The Register</th>\n",
              "      <td>107</td>\n",
              "    </tr>\n",
              "    <tr>\n",
              "      <th>Zdnet</th>\n",
              "      <td>62</td>\n",
              "    </tr>\n",
              "    <tr>\n",
              "      <th>darkreading</th>\n",
              "      <td>100</td>\n",
              "    </tr>\n",
              "  </tbody>\n",
              "</table>\n",
              "</div><br><label><b>dtype:</b> int64</label>"
            ]
          },
          "metadata": {},
          "execution_count": 38
        }
      ]
    },
    {
      "cell_type": "code",
      "source": [
        "filtered_df.to_csv('/content/drive/My Drive/news_data/filtered_feed_input.csv', index=False)"
      ],
      "metadata": {
        "id": "64wypV784Dx2"
      },
      "execution_count": null,
      "outputs": []
    }
  ]
}